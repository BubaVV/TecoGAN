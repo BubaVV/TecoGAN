{
  "nbformat": 4,
  "nbformat_minor": 0,
  "metadata": {
    "colab": {
      "name": "TecoGAN.ipynb",
      "provenance": [],
      "collapsed_sections": []
    },
    "kernelspec": {
      "name": "python3",
      "display_name": "Python 3"
    },
    "language_info": {
      "name": "python"
    },
    "accelerator": "GPU"
  },
  "cells": [
    {
      "cell_type": "code",
      "execution_count": null,
      "metadata": {
        "id": "JeaU5SUrsd4P",
        "collapsed": true,
        "cellView": "form"
      },
      "outputs": [],
      "source": [
        "#@title Preparation of tools\n",
        "%cd /content\n",
        "!git clone https://github.com/BubaVV/TecoGAN || true\n",
        "%cd TecoGAN\n",
        "!pip freeze | xargs pip uninstall -y\n",
        "!pip install tensorflow-gpu==1.15\n",
        "!apt install --allow-change-held-packages libcudnn7=7.6.0.64-1+cuda10.0 \n",
        "%cat requirements.txt | grep -v tensorflow | pip install -r /dev/stdin\n",
        "%mkdir -p model\n",
        "!wget -nc https://ge.in.tum.de/download/data/TecoGAN/model.zip -O model/model.zip\n",
        "!unzip -o model/model.zip -d model\n"
      ]
    },
    {
      "cell_type": "code",
      "source": [
        "#@title Upload input file\n",
        "#@markdown In case of several files uploaded, only first will be processed\n",
        "\n",
        "%mkdir -p videos\n",
        "%cd videos\n",
        "\n",
        "from google.colab import files\n",
        "import os\n",
        "\n",
        "uploaded = files.upload()\n",
        "input_filename = os.path.join(os.getcwd(), list(uploaded.keys())[0])"
      ],
      "metadata": {
        "id": "6rqUjrsWtMgK",
        "cellView": "form"
      },
      "execution_count": null,
      "outputs": []
    },
    {
      "cell_type": "code",
      "source": [
        "#@title Upscale video\n",
        "%cd /content/TecoGAN\n",
        "!python upscale.py $input_filename videos/output.mp4\n"
      ],
      "metadata": {
        "id": "byIokvLu4kln",
        "cellView": "form"
      },
      "execution_count": null,
      "outputs": []
    },
    {
      "cell_type": "code",
      "source": [
        "#@title Download result\n",
        "from google.colab import files\n",
        "\n",
        "files.download(\"/content/TecoGAN/videos/output.mp4\")"
      ],
      "metadata": {
        "id": "BjWeGF2h6_2d",
        "collapsed": true,
        "cellView": "form"
      },
      "execution_count": null,
      "outputs": []
    }
  ]
}